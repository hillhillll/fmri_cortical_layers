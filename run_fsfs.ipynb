{
  "cells": [
    {
      "cell_type": "code",
      "metadata": {},
      "source": [
        "import os\n",
        "import glob\n",
        "import subprocess\n",
        "from bash_cmd import bash_get\n",
        "\n",
        "\n",
        "class run_all_fsfs:\n",
        "    def __init__(self, path: str = r\"C:/Users/Owner/Desktop/fsl_pipeline_trial\"):\n",
        "        self.path = r\"{0}/Nifti\".format(path)\n",
        "\n",
        "    def declare_paths(self, path: str):\n",
        "        fsfdir = r\"{0}/derivatives/scripts/fsfs\".format(os.path.dirname(path))\n",
        "        feat_dir = \"{0}/derivatives/feats\".format(os.path.dirname(path))\n",
        "        all_fsfs = glob.glob(\"{0}/lev1/*\".format(fsfdir))\n",
        "        return feat_dir, all_fsfs\n",
        "\n",
        "    def run_fsfs(self, feat_dir: str, all_fsfs: list):\n",
        "        for fsf in all_fsfs:\n",
        "            cur_hdr = fsf.split(os.sep)[-1][:-4]\n",
        "            cur_hdr = cur_hdr.replace(\"design_\", \"\")\n",
        "            sub = cur_hdr.split(\"_\")[0]\n",
        "            cur_feat = \"{0}/{1}/{2}.feat\".format(feat_dir, sub, cur_hdr)\n",
        "            flag = \"{0}/stats/smoothness\".format(cur_feat)\n",
        "            if not os.path.isfile(flag):\n",
        "                print('Analyzing {0}'.format(cur_hdr))\n",
        "                cmd = bash_get('-lc \"feat {0}\"'.format(fsf))\n",
        "                subprocess.run(cmd)\n",
        "                while os.path.isfile(flag) == False:\n",
        "                    if os.path.isfile(flag) == True:\n",
        "                        break\n",
        "            else:\n",
        "                print('Already analyzed {0}'.format(cur_hdr))\n",
        "\n",
        "    def run(self):\n",
        "        feat_dir, all_fsfs = self.declare_paths(path=self.path)\n",
        "        self.run_fsfs(feat_dir=feat_dir, all_fsfs=all_fsfs)\n"
      ],
      "outputs": [],
      "execution_count": null
    }
  ],
  "metadata": {
    "anaconda-cloud": {},
    "kernelspec": {
      "display_name": "Python 3",
      "language": "python",
      "name": "python3"
    },
    "language_info": {
      "codemirror_mode": {
        "name": "ipython",
        "version": 3
      },
      "file_extension": ".py",
      "mimetype": "text/x-python",
      "name": "python",
      "nbconvert_exporter": "python",
      "pygments_lexer": "ipython3",
      "version": "3.6.1"
    }
  },
  "nbformat": 4,
  "nbformat_minor": 1
}