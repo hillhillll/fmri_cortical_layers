{
  "cells": [
    {
      "cell_type": "code",
      "metadata": {},
      "source": [
        "#!/usr/bin/env python\n",
        "\n",
        "import glob\n",
        "import os\n",
        "\n",
        "path = r'C:/Users/Owner/Desktop/Cortical_Layers_fMRI/derivatives/nii_SPM'\n",
        "source_path = r'C:/Users/Owner/Desktop/Cortical_Layers_fMRI/Nifti'\n",
        "func_files = glob.glob('{0}/*/func/*rsub-0*'.format(source_path))\n",
        "for f in func_files:\n",
        "    f_name = f.split(os.sep)[-1]\n",
        "    subj = f.split(os.sep)[-3]\n",
        "    dits = f.split('-')\n",
        "    prot = dits[-1].split('_')[0]\n",
        "    task = dits[-2].split('_')[0]\n",
        "    new_f_dir = '{0}/{1}/{2}_{3}/func_files'.format(path,subj,task,prot)\n",
        "    if os.path.isdir(new_f_dir) == False:\n",
        "        os.mkdir(new_f_dir)\n",
        "    os.rename(f,'{0}/{1}'.format(new_f_dir,f_name))\n",
        "subdirs = glob.glob('{0}/sub-*/[Motor|Sensory]*_stats'.format(path))\n",
        "for dir in subdirs:\n",
        "    stats_dir = dir.split(os.sep)[-1]\n",
        "    new_dir = dir.rstrip('_stats')\n",
        "    print(new_dir)\n",
        "    if os.path.isdir(new_dir) == False:\n",
        "        os.mkdir(new_dir)\n",
        "    os.rename(dir,'{0}/{1}'.format(new_dir,stats_dir))"
      ],
      "outputs": [],
      "execution_count": null
    }
  ],
  "metadata": {
    "anaconda-cloud": {},
    "kernelspec": {
      "display_name": "Python 3",
      "language": "python",
      "name": "python3"
    },
    "language_info": {
      "codemirror_mode": {
        "name": "ipython",
        "version": 3
      },
      "file_extension": ".py",
      "mimetype": "text/x-python",
      "name": "python",
      "nbconvert_exporter": "python",
      "pygments_lexer": "ipython3",
      "version": "3.6.1"
    }
  },
  "nbformat": 4,
  "nbformat_minor": 1
}