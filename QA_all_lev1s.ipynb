{
  "cells": [
    {
      "cell_type": "code",
      "metadata": {},
      "source": [
        "# Basically, I'm using python to create a text file with a huge command in it and then we run it.\n",
        "\n",
        "import os\n",
        "import glob\n",
        "\n",
        "\n",
        "# We will start with the registration png files\n",
        "class qa_lev1_analysis:\n",
        "    def __init__(self, path: str = r\"C:/Users/Owner/Desktop/Cortical_Layers_fMRI\"):\n",
        "        self.outfile = r\"{0}/derivatives/scripts/lev1_QA.html\".format(path)\n",
        "        self.all_feats = glob.glob(r\"{0}/derivatives/feats/*/sub*.feat\".format(path))\n",
        "\n",
        "    def QA_lev1(self, outfile: str, all_feats: list):\n",
        "        if os.path.isfile(outfile):\n",
        "            os.remove(outfile)\n",
        "\n",
        "        f = open(outfile, \"w\")\n",
        "        for file in list(all_feats):\n",
        "            f.write(\"<p>============================================\")\n",
        "            f.write(\"<p>%s\\n\" % (file))\n",
        "            # f.write(\"<IMG SRC=\\\"%s/design_cov.png\\\" >\"%(file))\n",
        "            f.write('<IMG SRC=\"%s/mc/disp.png\">\\n' % (file))\n",
        "            f.write('<IMG SRC=\"%s/mc/trans.png\" >' % (file))\n",
        "            f.write(\n",
        "                '<p><IMG SRC=\"%s/reg/example_func2highres.png\" WIDTH=1200>' % (file)\n",
        "            )\n",
        "            f.write(\n",
        "                '<p><IMG SRC=\"%s/reg/example_func2standard.png\" WIDTH=1200>' % (file)\n",
        "            )\n",
        "            f.write('<p><IMG SRC=\"%s/reg/highres2standard.png\" WIDTH=1200>' % (file))\n",
        "            f.write('<IMG SRC=\"%s/rendered_thresh_zstat1.png\" WIDTH=1200>' % (file))\n",
        "        f.close()\n",
        "        print(\"Created QA html file, located at {0}\".format(outfile))\n",
        "\n",
        "    def run(self):\n",
        "        self.QA_lev1(outfile=self.outfile, all_feats=self.all_feats)\n"
      ],
      "outputs": [],
      "execution_count": null
    }
  ],
  "metadata": {
    "anaconda-cloud": {},
    "kernelspec": {
      "display_name": "Python 3",
      "language": "python",
      "name": "python3"
    },
    "language_info": {
      "codemirror_mode": {
        "name": "ipython",
        "version": 3
      },
      "file_extension": ".py",
      "mimetype": "text/x-python",
      "name": "python",
      "nbconvert_exporter": "python",
      "pygments_lexer": "ipython3",
      "version": "3.6.1"
    }
  },
  "nbformat": 4,
  "nbformat_minor": 1
}