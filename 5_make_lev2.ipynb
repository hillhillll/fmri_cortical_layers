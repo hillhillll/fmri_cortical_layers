{
  "cells": [
    {
      "cell_type": "code",
      "metadata": {},
      "source": [
        "#!/usr/bin/python\n",
        "\n",
        "# This creates the level1 fsf's and the script to run the feats on condor\n",
        "\n",
        "import os\n",
        "import glob\n",
        "\n",
        "studydir = '/home/mumford/RobustFitSim/ds008_R1.1.0_raw'\n",
        "\n",
        "fsfdir=\"%s/Scripts/fsfs\"%(studydir)\n",
        "\n",
        "\n",
        "subdirs=glob.glob(\"%s/sub[0-9][0-9][0-9]\"%(studydir))\n",
        "\n",
        "for dir in list(subdirs):\n",
        "  splitdir = dir.split('/')\n",
        "  splitdir_sub = splitdir[5]  # You will need to edit this\n",
        "  subnum=splitdir_sub[-3:]    # You also may need to edit this\n",
        "  subfeats=glob.glob(\"%s/model/task001_run00[0-9].feat\"%(dir))\n",
        "  if len(subfeats)==3:  # Add your own second loop for 2 feat cases\n",
        "    print(subnum)\n",
        "    replacements = {'SUBNUM':subnum}\n",
        "    with open(\"%s/template_lev2.fsf\"%(fsfdir)) as infile: \n",
        "      with open(\"%s/lev2/design_sub%s.fsf\"%(fsfdir, subnum), 'w') as outfile:\n",
        "          for line in infile:\n",
        "            for src, target in replacements.iteritems():\n",
        "              line = line.replace(src, target)\n",
        "            outfile.write(line)\n",
        "    \n"
      ],
      "outputs": [],
      "execution_count": null
    }
  ],
  "metadata": {
    "anaconda-cloud": {},
    "kernelspec": {
      "display_name": "Python 3",
      "language": "python",
      "name": "python3"
    },
    "language_info": {
      "codemirror_mode": {
        "name": "ipython",
        "version": 3
      },
      "file_extension": ".py",
      "mimetype": "text/x-python",
      "name": "python",
      "nbconvert_exporter": "python",
      "pygments_lexer": "ipython3",
      "version": "3.6.1"
    }
  },
  "nbformat": 4,
  "nbformat_minor": 1
}