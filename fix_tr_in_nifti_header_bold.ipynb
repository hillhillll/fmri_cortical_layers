{
  "cells": [
    {
      "cell_type": "code",
      "metadata": {},
      "source": [
        "#!/usr/bin/python\n",
        "\n",
        "import glob\n",
        "import os\n",
        "import sys\n",
        "import subprocess\n",
        "import commands\n",
        "\n",
        "path = '/Users/jeanettemumford/Documents/Research/Talks/MumfordBrainStats/ds008/'\n",
        "\n",
        "bold_files = glob.glob('%s/sub[0-9][0-9][0-9]/BOLD/task001_run00[1-9]/bold.nii.gz'%(path))\n",
        "\n",
        "for cur_bold in list(bold_files):\n",
        "    print(cur_bold)\n",
        "    # strip off .nii.gz from file name (makes code below easier)\n",
        "    out = commands.getstatusoutput('fslinfo %s | grep \"pixdim\"'%(cur_bold))\n",
        "    out_split = str.split(out[1])\n",
        "    pixdim1 = out_split[1]\n",
        "    pixdim2 = out_split[3]\n",
        "    pixdim3 = out_split[5]\n",
        "    pixdim4 = 2  #DOUBLE CHECK THAT THIS IS REALLY YOUR TR!!!!\n",
        "    os.system('fslchpixdim %s %s %s %s %s'%(cur_bold, pixdim1, pixdim2, pixdim3, pixdim4))\n"
      ],
      "outputs": [],
      "execution_count": null
    }
  ],
  "metadata": {
    "anaconda-cloud": {},
    "kernelspec": {
      "display_name": "Python 3",
      "language": "python",
      "name": "python3"
    },
    "language_info": {
      "codemirror_mode": {
        "name": "ipython",
        "version": 3
      },
      "file_extension": ".py",
      "mimetype": "text/x-python",
      "name": "python",
      "nbconvert_exporter": "python",
      "pygments_lexer": "ipython3",
      "version": "3.6.1"
    }
  },
  "nbformat": 4,
  "nbformat_minor": 1
}