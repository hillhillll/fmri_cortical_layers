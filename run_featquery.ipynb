{
  "cells": [
    {
      "cell_type": "code",
      "metadata": {},
      "source": [
        "import glob\n",
        "import os\n",
        "import subprocess\n",
        "from bash_cmd import bash_get\n",
        "\n",
        "###\n",
        "\n",
        "\n",
        "class Featquery:\n",
        "    def __init__(self, path: str = r\"C:/Users/Owner/Desktop/fsl_pipeline_trial\"):\n",
        "        self.path = r\"{0}/derivatives/feats\".format(path)\n",
        "        self.subjects = glob.glob(\"{0}/*\".format(self.path))\n",
        "\n",
        "    def query(self, path: str, subjects: list):\n",
        "        for subj in subjects:\n",
        "            subnum = subj.split(os.sep)[-1]\n",
        "            if not os.path.isdir(\n",
        "                \"{0}/tsplots/{1}\".format(os.path.dirname(path), subnum)\n",
        "            ):\n",
        "                os.makedirs(\"{0}/tsplots/{1}\".format(os.path.dirname(path), subnum))\n",
        "            feats = glob.glob(\"{0}/*.feat\".format(subj))\n",
        "            for feat in feats:\n",
        "                prot = (\n",
        "                    feat.split(os.sep)[-1]\n",
        "                    .split(\".\")[0]\n",
        "                    .replace(\"{0}_\".format(subnum), \"\")\n",
        "                )\n",
        "                mask = glob.glob(\"{0}/*_bin.nii.gz\".format(feat))[0]\n",
        "                output = \"{0}/tsplots/{1}/{2}\".format(\n",
        "                    os.path.dirname(path), subnum, prot\n",
        "                )\n",
        "                if os.path.isdir(output):\n",
        "                    print(\n",
        "                        \"{0} already went through featquery ROI analysis\".format(subnum)\n",
        "                    )\n",
        "                else:\n",
        "                    print(\"Analyzing {0} using featquery\".format(subnum))\n",
        "                    cmd = bash_get(\n",
        "                        '-lc \"featquery 1 {0} 1 stats/cope1 {1} -p -s -b {2}\"'.format(\n",
        "                            feat, prot, mask\n",
        "                        )\n",
        "                    )\n",
        "                    subprocess.run(cmd)\n",
        "                    if os.path.isdir(output):\n",
        "                        os.remove(output)\n",
        "                    os.rename(\"{0}/{1}\".format(feat, prot), output)\n",
        "\n",
        "    def run(self):\n",
        "        self.query(path=self.path, subjects=self.subjects)\n"
      ],
      "outputs": [],
      "execution_count": null
    }
  ],
  "metadata": {
    "anaconda-cloud": {},
    "kernelspec": {
      "display_name": "Python 3",
      "language": "python",
      "name": "python3"
    },
    "language_info": {
      "codemirror_mode": {
        "name": "ipython",
        "version": 3
      },
      "file_extension": ".py",
      "mimetype": "text/x-python",
      "name": "python",
      "nbconvert_exporter": "python",
      "pygments_lexer": "ipython3",
      "version": "3.6.1"
    }
  },
  "nbformat": 4,
  "nbformat_minor": 1
}