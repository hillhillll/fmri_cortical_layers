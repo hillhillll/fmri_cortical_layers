{
  "cells": [
    {
      "cell_type": "code",
      "metadata": {},
      "source": [
        "#!/usr/bin/env python\n",
        "\n",
        "\n",
        "import glob\n",
        "import os\n",
        "\n",
        " \n",
        "path = '/Users/jeanettemumford/Documents/Research/Talks/MumfordBrainStats/ds008/'\n",
        "\n",
        "boldfiles = glob.glob('%s/sub0[0-9][0-9]/BOLD/task00[0-9]_run00[0-9]/bold.nii.gz'%(path))\n",
        "\n",
        "for file in boldfiles:  \n",
        "    print file\n",
        "    os.system(\"fslnvols %s\"%(file))\n",
        "\n",
        "\n",
        "\n",
        "    \n"
      ],
      "outputs": [],
      "execution_count": null
    }
  ],
  "metadata": {
    "anaconda-cloud": {},
    "kernelspec": {
      "display_name": "Python 3",
      "language": "python",
      "name": "python3"
    },
    "language_info": {
      "codemirror_mode": {
        "name": "ipython",
        "version": 3
      },
      "file_extension": ".py",
      "mimetype": "text/x-python",
      "name": "python",
      "nbconvert_exporter": "python",
      "pygments_lexer": "ipython3",
      "version": "3.6.1"
    }
  },
  "nbformat": 4,
  "nbformat_minor": 1
}