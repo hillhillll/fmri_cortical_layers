{
  "cells": [
    {
      "cell_type": "code",
      "metadata": {},
      "source": [
        "#!/usr/bin/python\n",
        "\n",
        "# This follows the level 1 QA script (4_QA...py)\n",
        "\n",
        "import os\n",
        "import glob\n",
        "\n",
        "# We will start with the registration png files\n",
        "outfile = \"/Users/jeanettemumford/Documents/Research/Talks/MumfordBrainStats/ds008_R1.1.0_raw/QA/lev2_QA.html\"\n",
        "os.system(\"rm %s\"%(outfile))\n",
        "\n",
        "all_feats = glob.glob('/Users/jeanettemumford/Documents/Research/Talks/MumfordBrainStats/ds008_R1.1.0_raw/sub*/model/lev2.gfeat/')\n",
        "\n",
        "f = open(outfile, \"w\")\n",
        "for file in list(all_feats):\n",
        "  f.write(\"<p>============================================\")\n",
        "  f.write(\"<p>%s\"%(file))\n",
        "  f.write(\"<IMG SRC=\\\"%s/inputreg/masksum_overlay.png\\\">\"%(file))\n",
        "  f.write(\"<IMG SRC=\\\"%s/inputreg/maskunique_overlay.png\\\">\"%(file))\n",
        "f.close()\n"
      ],
      "outputs": [],
      "execution_count": null
    }
  ],
  "metadata": {
    "anaconda-cloud": {},
    "kernelspec": {
      "display_name": "Python 3",
      "language": "python",
      "name": "python3"
    },
    "language_info": {
      "codemirror_mode": {
        "name": "ipython",
        "version": 3
      },
      "file_extension": ".py",
      "mimetype": "text/x-python",
      "name": "python",
      "nbconvert_exporter": "python",
      "pygments_lexer": "ipython3",
      "version": "3.6.1"
    }
  },
  "nbformat": 4,
  "nbformat_minor": 1
}