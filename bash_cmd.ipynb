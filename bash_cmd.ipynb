{
  "cells": [
    {
      "cell_type": "code",
      "metadata": {},
      "source": [
        "import platform\n",
        "import os\n",
        "\n",
        "\n",
        "def bash_get(cmd):\n",
        "    is32bit = platform.architecture()[0] == \"32bit\"\n",
        "    system32 = os.path.join(\n",
        "        os.environ[\"SystemRoot\"], \"SysNative\" if is32bit else \"System32\"\n",
        "    )\n",
        "    bash = os.path.join(system32, \"bash.exe\")\n",
        "    cmd = cmd.replace(\"C:\", \"/mnt/c\")\n",
        "    cmd = cmd.replace(os.sep, \"/\")\n",
        "    cmd = r'{0} {1}'.format(bash,cmd)\n",
        "    return cmd\n"
      ],
      "outputs": [],
      "execution_count": null
    }
  ],
  "metadata": {
    "anaconda-cloud": {},
    "kernelspec": {
      "display_name": "Python 3",
      "language": "python",
      "name": "python3"
    },
    "language_info": {
      "codemirror_mode": {
        "name": "ipython",
        "version": 3
      },
      "file_extension": ".py",
      "mimetype": "text/x-python",
      "name": "python",
      "nbconvert_exporter": "python",
      "pygments_lexer": "ipython3",
      "version": "3.6.1"
    }
  },
  "nbformat": 4,
  "nbformat_minor": 1
}