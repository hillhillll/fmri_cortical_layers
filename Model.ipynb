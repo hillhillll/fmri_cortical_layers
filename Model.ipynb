{
 "cells": [
  {
   "cell_type": "code",
   "execution_count": 122,
   "metadata": {
    "collapsed": true,
    "pycharm": {
     "is_executing": false
    }
   },
   "outputs": [],
   "source": [
    "import numpy  as np\n",
    "import numpy.matlib as mat\n",
    "import pandas as pd\n",
    "import os\n",
    "import glob\n",
    "import seaborn as sns\n",
    "import matplotlib.pyplot as plt"
   ]
  },
  {
   "cell_type": "code",
   "execution_count": 35,
   "outputs": [],
   "source": [
    "PATH = os.path.abspath(\"C:/Users/Owner/Desktop/Cortical_layers_fMRI\")\n",
    "path = r\"{0}/derivatives/tsplots/mean_ts\".format(PATH)"
   ],
   "metadata": {
    "collapsed": false,
    "pycharm": {
     "name": "#%%\n",
     "is_executing": false
    }
   }
  },
  {
   "cell_type": "code",
   "execution_count": 21,
   "outputs": [],
   "source": [
    "class ModelResults:\n",
    "    def __init__(self, subj, path: str = PATH):\n",
    "        \"\"\"\n",
    "        :param subj: Integer or string - number of subject or 'Mean'\n",
    "        :param path: Mother directory of analysis\n",
    "        \"\"\"\n",
    "        self.path = r\"{0}/derivatives/tsplots/mean_ts\".format(path)\n",
    "        self.subj = subj"
   ],
   "metadata": {
    "collapsed": false,
    "pycharm": {
     "name": "#%%\n",
     "is_executing": false
    }
   }
  },
  {
   "cell_type": "code",
   "execution_count": 77,
   "outputs": [],
   "source": [
    "def get_mean_data(action: str,path: str):\n",
    "    FieldNames = [\n",
    "        \"SE-EPI\",\n",
    "        \"IREPITI630\",\n",
    "        \"IREPITI650\",\n",
    "        \"IREPITI670\",\n",
    "        \"IREPITI690\",\n",
    "        \"IREPITI710\",\n",
    "        \"IREPITI730\",\n",
    "        \"IREPITI750\",\n",
    "    ]\n",
    "    all_data = pd.DataFrame()\n",
    "    for field in FieldNames:\n",
    "        file_name = r\"task-{0}_acq-{1}_bold\".format(action, field)\n",
    "        prot_file = pd.read_csv(\n",
    "            r\"{0}/{1}/{1}_subjects_norm_BOLD_response.txt\".format(\n",
    "                path, file_name\n",
    "            )\n",
    "        )\n",
    "        if \"IR\" in field:\n",
    "            mean_prot = prot_file.mean(axis=1).rename(int(field[-3:]))\n",
    "        else:\n",
    "            mean_prot = prot_file.mean(axis=1).rename(field[-3:])\n",
    "        print(mean_prot)\n",
    "        all_data = all_data.append(mean_prot)\n",
    "    BOLD = all_data.iloc[0:1, :].mean()\n",
    "    data = all_data.iloc[1:]\n",
    "    print(data)\n",
    "    TIlist = []\n",
    "    for TI in data.index:\n",
    "        print(TI)\n",
    "        TIlist.append(TI)\n",
    "    return BOLD, data, TIlist"
   ],
   "metadata": {
    "collapsed": false,
    "pycharm": {
     "name": "#%%\n",
     "is_executing": false
    }
   }
  },
  {
   "cell_type": "code",
   "execution_count": 255,
   "outputs": [
    {
     "name": "stdout",
     "text": [
      "0    0.399509\n1    0.384410\n2    0.468683\n3    0.527318\n4    0.495293\n5    0.539228\n6    0.553021\n7    0.452144\n8    0.401427\n9    0.411429\nName: EPI, dtype: float64\n0    0.415680\n1    0.432039\n2    0.457867\n3    0.478362\n4    0.548845\n5    0.567898\n6    0.561869\n7    0.584294\n8    0.483841\n9    0.454639\nName: 630, dtype: float64\n0    0.366863\n1    0.419126\n2    0.427329\n3    0.421696\n4    0.455007\n5    0.515697\n6    0.480686\n7    0.502575\n8    0.487593\n9    0.355758\nName: 650, dtype: float64\n0    0.388223\n1    0.406821\n2    0.386437\n3    0.483529\n4    0.516372\n5    0.516661\n6    0.481118\n7    0.516593\n8    0.456817\n9    0.416726\nName: 670, dtype: float64\n0    0.388830\n1    0.403784\n2    0.435904\n3    0.513149\n4    0.541630\n5    0.568947\n6    0.546864\n7    0.569581\n8    0.534801\n9    0.448380\nName: 690, dtype: float64\n0    0.429306\n1    0.431529\n2    0.403900\n3    0.474396\n4    0.502143\n5    0.497828\n6    0.512063\n7    0.526226\n8    0.461106\n9    0.421543\nName: 710, dtype: float64\n0    0.407441\n1    0.418586\n2    0.407813\n3    0.519846\n4    0.552392\n5    0.591371\n6    0.580234\n7    0.573246\n8    0.509583\n9    0.431155\nName: 730, dtype: float64\n0    0.432691\n1    0.394020\n2    0.410779\n3    0.476577\n4    0.517069\n5    0.526429\n6    0.528206\n7    0.563454\n8    0.511648\n9    0.488086\nName: 750, dtype: float64\n            0         1         2         3         4         5         6  \\\n630  0.415680  0.432039  0.457867  0.478362  0.548845  0.567898  0.561869   \n650  0.366863  0.419126  0.427329  0.421696  0.455007  0.515697  0.480686   \n670  0.388223  0.406821  0.386437  0.483529  0.516372  0.516661  0.481118   \n690  0.388830  0.403784  0.435904  0.513149  0.541630  0.568947  0.546864   \n710  0.429306  0.431529  0.403900  0.474396  0.502143  0.497828  0.512063   \n730  0.407441  0.418586  0.407813  0.519846  0.552392  0.591371  0.580234   \n750  0.432691  0.394020  0.410779  0.476577  0.517069  0.526429  0.528206   \n\n            7         8         9  \n630  0.584294  0.483841  0.454639  \n650  0.502575  0.487593  0.355758  \n670  0.516593  0.456817  0.416726  \n690  0.569581  0.534801  0.448380  \n710  0.526226  0.461106  0.421543  \n730  0.573246  0.509583  0.431155  \n750  0.563454  0.511648  0.488086  \n630\n650\n670\n690\n710\n730\n750\n"
     ],
     "output_type": "stream"
    }
   ],
   "source": [
    "BOLD,data,TIlist = get_mean_data(action = 'Sensory',path=path)\n",
    "BOLD = mat.repmat(BOLD,7,1)\n",
    "BOLD = BOLD.transpose()"
   ],
   "metadata": {
    "collapsed": false,
    "pycharm": {
     "name": "#%%\n",
     "is_executing": false
    }
   }
  },
  {
   "cell_type": "code",
   "execution_count": 256,
   "outputs": [],
   "source": [
    "s0=5000\n",
    "T1=np.array([890, 1000,1100,1300,1400,1600])\n",
    "TR=3000"
   ],
   "metadata": {
    "collapsed": false,
    "pycharm": {
     "name": "#%%\n",
     "is_executing": false
    }
   }
  },
  {
   "cell_type": "code",
   "execution_count": 257,
   "outputs": [
    {
     "name": "stdout",
     "text": [
      "<class 'numpy.ndarray'>\n"
     ],
     "output_type": "stream"
    }
   ],
   "source": [
    "A = np.zeros([len(T1),len(TIlist)])\n",
    "print(type(T1))"
   ],
   "metadata": {
    "collapsed": false,
    "pycharm": {
     "name": "#%%\n",
     "is_executing": false
    }
   }
  },
  {
   "cell_type": "code",
   "execution_count": 259,
   "outputs": [],
   "source": [
    "for i in range(len(TIlist)):\n",
    "    fix=1-np.exp(-(TR-TIlist[i])/T1)\n",
    "    A[:,i]=1-(1+(fix))*np.exp(-TIlist[i]/T1)"
   ],
   "metadata": {
    "collapsed": false,
    "pycharm": {
     "name": "#%%\n",
     "is_executing": false
    }
   }
  },
  {
   "cell_type": "code",
   "source": [
    "mean_data = data.iloc[:,3:7].mean(axis=1)\n",
    "norm_mean_data = np.array([mean_data-mean_data.min()])/np.array([mean_data.max()-mean_data.min()])[0]"
   ],
   "metadata": {
    "collapsed": false,
    "pycharm": {
     "name": "#%%\n",
     "is_executing": false
    }
   },
   "execution_count": 260,
   "outputs": []
  },
  {
   "cell_type": "code",
   "execution_count": 144,
   "outputs": [
    {
     "name": "stdout",
     "text": [
      "[[ 0.04897281  0.07086945  0.09227952  0.11321382  0.13368294  0.15369722\n   0.17326674]\n [-0.01539653  0.00569551  0.02636991  0.04663493  0.06649867  0.08596909\n   0.10505396]\n [-0.06257299 -0.04224976 -0.02229269 -0.00269521  0.01654918  0.03544683\n   0.05400399]\n [-0.13237752 -0.11357074 -0.09505108 -0.07681416 -0.05885566 -0.04117133\n  -0.02375699]\n [-0.15793714 -0.1398487  -0.12201683 -0.1044379  -0.0871083  -0.07002451\n  -0.05318304]\n [-0.19569036 -0.17893225 -0.16238232 -0.14603797 -0.12989665 -0.11395584\n  -0.09821305]]\n(10, 6)\n(10,)\n"
     ],
     "output_type": "stream"
    }
   ],
   "source": [
    "print(A.transpose())\n",
    "print(abs(mat.repmat(A[0,:],10,1)).shape)\n",
    "print(BOLD.shape)"
   ],
   "metadata": {
    "collapsed": false,
    "pycharm": {
     "name": "#%%\n",
     "is_executing": false
    }
   }
  },
  {
   "cell_type": "code",
   "execution_count": 261,
   "outputs": [
    {
     "name": "stdout",
     "text": [
      "[[0.0195651  0.02831301 0.03686653 0.04522999 0.05340759 0.06140348\n  0.06922169]\n [0.01882561 0.02724289 0.03547313 0.04352047 0.051389   0.05908268\n  0.06660539]\n [0.02295271 0.03321529 0.04324982 0.05306137 0.06265489 0.07203524\n  0.08120714]\n [0.02582425 0.03737074 0.04866066 0.0596997  0.07049344 0.08104733\n  0.09136669]\n [0.02425591 0.03510118 0.04570544 0.05607407 0.06621229 0.07612523\n  0.08581789]\n [0.02640749 0.03821476 0.04975966 0.06104802 0.07208553 0.08287778\n  0.09343021]\n [0.027083   0.03919231 0.05103253 0.06260964 0.0739295  0.08499782\n  0.09582018]\n [0.02214277 0.03204321 0.04172365 0.05118898 0.06044398 0.06949331\n  0.07834156]\n [0.01965898 0.02844888 0.03704345 0.04544703 0.05366388 0.06169814\n  0.06955387]\n [0.02014882 0.02915773 0.03796645 0.04657943 0.05500101 0.06323546\n  0.07128692]]\n"
     ],
     "output_type": "stream"
    }
   ],
   "source": [
    "t = abs(mat.repmat(A[0,:],10,1))*BOLD\n",
    "print(t)"
   ],
   "metadata": {
    "collapsed": false,
    "pycharm": {
     "name": "#%%\n",
     "is_executing": false
    }
   }
  },
  {
   "cell_type": "code",
   "execution_count": 262,
   "outputs": [],
   "source": [
    "st1 = np.zeros([10,7,6])\n",
    "mst1 = np.zeros([7,6])\n",
    "cor = np.zeros([A.shape[0],1])\n",
    "pval = np.zeros([A.shape[0],1])\n",
    "for i in range(A.shape[0]):\n",
    "    st1[:,:,i]=abs(mat.repmat(A[i,:],10,1))*BOLD\n",
    "    mst1[:,i]=np.mean(st1[4:8,:,i],axis=0)\n",
    "# %     s(:,:,i)=abs(A(:,i).*bold2);\n",
    "    [res1,res2]=np.corrcoef(mst1[:,i],norm_mean_data)\n",
    "# %     plot(mdata); hold on; plot(mst1(:,1)); pause;\n",
    "    cor[i]=res1[1]\n",
    "    pval[i]=res1[0]"
   ],
   "metadata": {
    "collapsed": false,
    "pycharm": {
     "name": "#%%\n",
     "is_executing": false
    }
   }
  },
  {
   "cell_type": "code",
   "execution_count": 263,
   "outputs": [
    {
     "data": {
      "text/plain": "[<matplotlib.lines.Line2D at 0x1b088916e88>]"
     },
     "metadata": {},
     "output_type": "execute_result",
     "execution_count": 263
    },
    {
     "data": {
      "text/plain": "<Figure size 432x288 with 1 Axes>",
      "image/png": "[encoded data removed]"
     },
     "metadata": {
      "needs_background": "light"
     },
     "output_type": "display_data"
    }
   ],
   "source": [
    "plt.plot(cor)"
   ],
   "metadata": {
    "collapsed": false,
    "pycharm": {
     "name": "#%%\n",
     "is_executing": false
    }
   }
  }
 ],
 "metadata": {
  "kernelspec": {
   "display_name": "Python 3",
   "language": "python",
   "name": "python3"
  },
  "language_info": {
   "codemirror_mode": {
    "name": "ipython",
    "version": 2
   },
   "file_extension": ".py",
   "mimetype": "text/x-python",
   "name": "python",
   "nbconvert_exporter": "python",
   "pygments_lexer": "ipython2",
   "version": "2.7.6"
  },
  "pycharm": {
   "stem_cell": {
    "cell_type": "raw",
    "source": [],
    "metadata": {
     "collapsed": false
    }
   }
  }
 },
 "nbformat": 4,
 "nbformat_minor": 0
}