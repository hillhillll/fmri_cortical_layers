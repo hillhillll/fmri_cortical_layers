{
  "cells": [
    {
      "cell_type": "code",
      "metadata": {},
      "source": [
        "import os\n",
        "###set pathes to relevant tools\n",
        "os.system('export ANTSPATH=${HOME}/bin/ants/bin/')\n",
        "os.system('export PATH=${ANTSPATH}:$PATH')\n",
        "os.system('export FREESURFER_HOME=/Applications/freesurfer')\n",
        "os.system('source $FREESURFER_HOME/SetUpFreeSurfer.sh')\n",
        "export LC_ALL=en_US.UTF-8\n",
        "export LANG=en_US.UTF-8\n",
        "###run command line\n",
        "os.system('/Users/glhrsqwbyz/local/bin/fmriprep-docker /Users/glhrsqwbyz/Desktop/Projects/fMRI_Cortical_Layers/BIDS_Pilot2 /Users/glhrsqwbyz/Desktop/Projects/fMRI_Cortical_Layers/BIDS_Pilot2/derivatives participant --fs-license-file /Applications/freesurfer/license.txt')\n"
      ],
      "outputs": [],
      "execution_count": null
    }
  ],
  "metadata": {
    "anaconda-cloud": {},
    "kernelspec": {
      "display_name": "Python 3",
      "language": "python",
      "name": "python3"
    },
    "language_info": {
      "codemirror_mode": {
        "name": "ipython",
        "version": 3
      },
      "file_extension": ".py",
      "mimetype": "text/x-python",
      "name": "python",
      "nbconvert_exporter": "python",
      "pygments_lexer": "ipython3",
      "version": "3.6.1"
    }
  },
  "nbformat": 4,
  "nbformat_minor": 1
}