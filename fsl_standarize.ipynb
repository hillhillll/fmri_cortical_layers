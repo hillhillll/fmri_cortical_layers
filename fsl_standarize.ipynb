{
  "cells": [
    {
      "cell_type": "code",
      "metadata": {},
      "source": [
        "import glob\n",
        "import subprocess\n",
        "import bash_cmd\n",
        "import os\n",
        "\n",
        "\n",
        "class Prep_Fsl:\n",
        "    def __init__(self, path: str = r\"C:/Users/Owner/Desktop/Cortical_Layers_fMRI\"):\n",
        "        self.path = r\"{0}/derivatives/feats\".format(path)\n",
        "\n",
        "    def prep_filtered_func(self, path: str = None):\n",
        "        if not path:\n",
        "            path = self.path\n",
        "        func_data = glob.glob(r\"{0}/*/*.feat\".format(path))\n",
        "        for func in func_data:\n",
        "            filtered_func = r\"{0}/filtered_func_data.nii.gz\".format(func)\n",
        "            tstat = r\"{0}/stats/tstat1.nii.gz\".format(func)\n",
        "            output_filtered_func = r\"{0}/filtered_func_data_standard.nii.gz\".format(\n",
        "                func\n",
        "            )\n",
        "            outout_tstat = r\"{0}/tstat1_standard.nii.gz\".format(func)\n",
        "            if os.path.isfile(output_filtered_func):\n",
        "                print(\"Already standarized {0}\".format(func.split(os.sep)[-1]))\n",
        "            else:\n",
        "                print(\"Standarizing {0}\".format(func.split(os.sep)[-1]))\n",
        "                standard2example = r\"{0}/reg/standard2example_func.mat\".format(func)\n",
        "                cmd = bash_cmd.bash_get(\n",
        "                    '-lc \"flirt -in /usr/local/fsl/data/standard/MNI152_T1_2mm_brain -ref {0} -applyxfm -init {1} -out {2}\"'.format(\n",
        "                        filtered_func, standard2example, output_filtered_func\n",
        "                    )\n",
        "                )\n",
        "                subprocess.run(cmd)\n",
        "                cmd = bash_cmd.bash_get(\n",
        "                    '-lc \"flirt -in /usr/local/fsl/data/standard/MNI152_T1_2mm_brain -ref {0} -applyxfm -init {1} -out {2}\"'.format(\n",
        "                        tstat, standard2example, outout_tstat\n",
        "                    )\n",
        "                )\n",
        "                subprocess.run(cmd)\n",
        "                print(r\"Finished standardizing {0}\".format(func.split(os.sep)[-1]))\n",
        "\n",
        "    def run(self):\n",
        "        self.prep_filtered_func(path=self.path)\n"
      ],
      "outputs": [],
      "execution_count": null
    }
  ],
  "metadata": {
    "anaconda-cloud": {},
    "kernelspec": {
      "display_name": "Python 3",
      "language": "python",
      "name": "python3"
    },
    "language_info": {
      "codemirror_mode": {
        "name": "ipython",
        "version": 3
      },
      "file_extension": ".py",
      "mimetype": "text/x-python",
      "name": "python",
      "nbconvert_exporter": "python",
      "pygments_lexer": "ipython3",
      "version": "3.6.1"
    }
  },
  "nbformat": 4,
  "nbformat_minor": 1
}